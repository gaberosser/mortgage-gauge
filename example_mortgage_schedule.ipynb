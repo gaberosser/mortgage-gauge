{
 "cells": [
  {
   "cell_type": "code",
   "execution_count": null,
   "id": "3b3d114b-425b-4b0d-b73d-adbadd50e2d1",
   "metadata": {},
   "outputs": [],
   "source": [
    "from mortgage_schedule import MortgagePaymentSchedule"
   ]
  },
  {
   "cell_type": "code",
   "execution_count": null,
   "id": "7942c60b-5406-4759-b6db-6b31ff37b944",
   "metadata": {},
   "outputs": [],
   "source": [
    "obj = MortgagePaymentSchedule(interest_pct_annual=3.54, term_years=5, initial_amount=100000)"
   ]
  },
  {
   "cell_type": "code",
   "execution_count": null,
   "id": "639b02b0-d8cf-482d-86d0-30a2035366be",
   "metadata": {},
   "outputs": [],
   "source": [
    "obj.total_interest"
   ]
  },
  {
   "cell_type": "code",
   "execution_count": null,
   "id": "d5f04ede-bb1a-4522-8eb2-337e1697ca66",
   "metadata": {},
   "outputs": [],
   "source": [
    "p_paid = obj.repayment - obj.interest_added[1:]"
   ]
  },
  {
   "cell_type": "code",
   "execution_count": null,
   "id": "85b39060-7369-4bb3-b64b-aec183fa3a2d",
   "metadata": {},
   "outputs": [],
   "source": [
    "from matplotlib import pyplot as plt\n",
    "import numpy as np\n",
    "\n",
    "t = np.arange(obj.term_months)\n",
    "plt.bar(t, obj.interest_added)\n",
    "plt.bar(t[1:], bottom=obj.interest_added[1:], height=p_paid, color=\"y\")\n",
    "plt.plot(t, np.cumsum(obj.interest_added))"
   ]
  }
 ],
 "metadata": {
  "kernelspec": {
   "display_name": "Python 3 (ipykernel)",
   "language": "python",
   "name": "python3"
  },
  "language_info": {
   "codemirror_mode": {
    "name": "ipython",
    "version": 3
   },
   "file_extension": ".py",
   "mimetype": "text/x-python",
   "name": "python",
   "nbconvert_exporter": "python",
   "pygments_lexer": "ipython3",
   "version": "3.9.7"
  }
 },
 "nbformat": 4,
 "nbformat_minor": 5
}
